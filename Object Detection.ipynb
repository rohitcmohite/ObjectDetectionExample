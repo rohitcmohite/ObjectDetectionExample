{
 "cells": [
  {
   "cell_type": "markdown",
   "metadata": {},
   "source": [
    "# Object Detection"
   ]
  },
  {
   "cell_type": "code",
   "execution_count": 1,
   "metadata": {},
   "outputs": [],
   "source": [
    "# Importing necessary packages\n",
    "\n",
    "import numpy as np\n",
    "import argparse\n",
    "import cv2\n",
    "from easydict import EasyDict as edict\n",
    "import matplotlib.pyplot as plt\n",
    "from IPython.display import Image"
   ]
  },
  {
   "cell_type": "code",
   "execution_count": 2,
   "metadata": {},
   "outputs": [],
   "source": [
    "# Defining a disctionary containing all the arguments to be passed\n",
    "\n",
    "args_dict = edict({'image':'images/third.jpg' , 'prototxt':'MobileNetSSD_deploy.prototxt.txt',\n",
    "                   'model':'MobileNetSSD_deploy.caffemodel', 'confidence':0.2})"
   ]
  },
  {
   "cell_type": "code",
   "execution_count": 3,
   "metadata": {},
   "outputs": [
    {
     "data": {
      "text/plain": [
       "'images/third.jpg'"
      ]
     },
     "execution_count": 3,
     "metadata": {},
     "output_type": "execute_result"
    }
   ],
   "source": [
    "args_dict['image']"
   ]
  },
  {
   "cell_type": "code",
   "execution_count": 4,
   "metadata": {},
   "outputs": [],
   "source": [
    "# initialize the list of class labels MobileNet SSD was trained to detect\n",
    "\n",
    "CLASSES = [\"background\", \"aeroplane\", \"bicycle\", \"bird\", \"boat\",\n",
    "\t\"bottle\", \"bus\", \"car\", \"cat\", \"chair\", \"cow\", \"diningtable\",\n",
    "\t\"dog\", \"horse\", \"motorbike\", \"person\", \"pottedplant\", \"sheep\",\n",
    "\t\"sofa\", \"train\", \"tvmonitor\"]"
   ]
  },
  {
   "cell_type": "code",
   "execution_count": 5,
   "metadata": {},
   "outputs": [],
   "source": [
    "#generate a set of bounding box colors for each class\n",
    "\n",
    "COLORS = np.random.uniform(0, 255, size=(len(CLASSES), 3))"
   ]
  },
  {
   "cell_type": "code",
   "execution_count": 6,
   "metadata": {},
   "outputs": [
    {
     "data": {
      "text/plain": [
       "(21, 3)"
      ]
     },
     "execution_count": 6,
     "metadata": {},
     "output_type": "execute_result"
    }
   ],
   "source": [
    "COLORS.shape"
   ]
  },
  {
   "cell_type": "code",
   "execution_count": 7,
   "metadata": {},
   "outputs": [
    {
     "name": "stdout",
     "output_type": "stream",
     "text": [
      "[ 12.19326145 171.77501604 161.04489338]\n",
      "[100.04124277 103.24125508  85.6762676 ]\n",
      "[133.99325843 160.13380471   8.49715649]\n",
      "[254.27942135 194.49589165  53.01844045]\n",
      "[219.65793111 191.89528673 117.52494176]\n",
      "[249.95263125 249.65028438 125.33539403]\n",
      "[  2.41362362 100.78715025 184.96585665]\n",
      "[111.32317303 108.59963769  37.37256411]\n",
      "[145.61751425 219.79422026 171.65799698]\n",
      "[240.44807349 133.75404676 124.23431531]\n",
      "[184.60684019 202.57344253  99.14718517]\n",
      "[ 1.56841428 14.13216944 68.48856817]\n",
      "[ 20.08330813  46.06466946 100.64897311]\n",
      "[ 35.14939847 157.93279964  27.94220581]\n",
      "[109.46470997 123.34178613 151.15640426]\n",
      "[244.69788092  25.13152477  89.81208873]\n",
      "[162.19647225  44.82734    166.64249221]\n",
      "[190.06659059  32.72263317 149.6230781 ]\n",
      "[239.07754322 149.76406483 127.15625481]\n",
      "[ 73.48607528   7.2356706  101.47913499]\n",
      "[  9.06185938  58.83202942 217.49965383]\n"
     ]
    }
   ],
   "source": [
    "for i in range(len(COLORS)):\n",
    "        print(COLORS[i])"
   ]
  },
  {
   "cell_type": "code",
   "execution_count": 8,
   "metadata": {},
   "outputs": [
    {
     "name": "stdout",
     "output_type": "stream",
     "text": [
      "[INFO] loading model...\n"
     ]
    }
   ],
   "source": [
    "# load our serialized model from disk\n",
    "print(\"[INFO] loading model...\")\n",
    "net = cv2.dnn.readNetFromCaffe(args_dict[\"prototxt\"], args_dict[\"model\"])"
   ]
  },
  {
   "cell_type": "code",
   "execution_count": 12,
   "metadata": {},
   "outputs": [],
   "source": [
    "# load the input image and construct an input blob for the image\n",
    "# by resizing to a fixed 300x300 pixels and then normalizing it\n",
    "# (note: normalization is done via the authors of the MobileNet SSD\n",
    "# implementation)\n",
    "#print(f'shape of immported Image = {image.shape}')\n",
    "image = cv2.imread(args_dict['image'])\n",
    "#plt.figure(figsize=(100,100))\n",
    "#plt.imshow(image)\n",
    "#plt.show()"
   ]
  },
  {
   "cell_type": "code",
   "execution_count": 13,
   "metadata": {},
   "outputs": [],
   "source": [
    "(h,w) = image.shape[0:2]"
   ]
  },
  {
   "cell_type": "code",
   "execution_count": 14,
   "metadata": {},
   "outputs": [],
   "source": [
    "blob = cv2.dnn.blobFromImage(cv2.resize(image, (300, 300)), 0.007843, (300, 300), 127.5)"
   ]
  },
  {
   "cell_type": "code",
   "execution_count": 15,
   "metadata": {},
   "outputs": [
    {
     "data": {
      "text/plain": [
       "(1, 3, 300, 300)"
      ]
     },
     "execution_count": 15,
     "metadata": {},
     "output_type": "execute_result"
    }
   ],
   "source": [
    "blob.shape"
   ]
  },
  {
   "cell_type": "code",
   "execution_count": 16,
   "metadata": {},
   "outputs": [
    {
     "name": "stdout",
     "output_type": "stream",
     "text": [
      "[INFO] computing object detections...\n"
     ]
    }
   ],
   "source": [
    "# pass the blob through the network and obtain the detections and predictions\n",
    "\n",
    "print(\"[INFO] computing object detections...\")\n",
    "net.setInput(blob)\n",
    "detections = net.forward()"
   ]
  },
  {
   "cell_type": "code",
   "execution_count": null,
   "metadata": {},
   "outputs": [],
   "source": [
    "for i in np.arange(0, detections.shape[2]):\n",
    "    confidence = detections[0, 0, i, 2]\n",
    "    if confidence > args_dict['confidence']:\n",
    "        box = detections[0, 0, i, 3:7] * np.array([w, h, w, h])\n",
    "        idx = int(detections[0, 0, i, 1])\n",
    "        (startX, startY, endX, endY) = box.astype('int')\n",
    "        cv2.rectangle(image, (startX, startY), (endX, endY), COLORS[idx], 2)\n",
    "        \n",
    "        #Label for predictions\n",
    "        label = \"{}: {:.2f}%\".format(CLASSES[idx], confidence*100)\n",
    "        y = startY - 15 if startY - 15 > 15 else startY + 15\n",
    "        cv2.putText(image, label, (startX, y), cv2.FONT_HERSHEY_SIMPLEX, 0.5, COLORS[idx], 2)\n",
    "        \n",
    "        \n",
    "cv2.imshow(\"Output\", image)\n",
    "cv2.waitKey(0)"
   ]
  }
 ],
 "metadata": {
  "kernelspec": {
   "display_name": "Python 3",
   "language": "python",
   "name": "python3"
  },
  "language_info": {
   "codemirror_mode": {
    "name": "ipython",
    "version": 3
   },
   "file_extension": ".py",
   "mimetype": "text/x-python",
   "name": "python",
   "nbconvert_exporter": "python",
   "pygments_lexer": "ipython3",
   "version": "3.7.1"
  }
 },
 "nbformat": 4,
 "nbformat_minor": 2
}
